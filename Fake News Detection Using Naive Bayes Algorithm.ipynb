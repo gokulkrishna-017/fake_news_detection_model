{
 "cells": [
  {
   "cell_type": "markdown",
   "id": "5f676d84",
   "metadata": {},
   "source": [
    "# Importing all the necessary libraries"
   ]
  },
  {
   "cell_type": "code",
   "execution_count": 1,
   "id": "a8d62e31",
   "metadata": {},
   "outputs": [],
   "source": [
    "import pandas as pd\n",
    "from sklearn.model_selection import train_test_split\n",
    "from sklearn.feature_extraction.text import TfidfVectorizer\n",
    "from sklearn.naive_bayes import MultinomialNB\n",
    "from sklearn.pipeline import make_pipeline\n",
    "from sklearn.metrics import accuracy_score, classification_report"
   ]
  },
  {
   "cell_type": "markdown",
   "id": "59278fbb",
   "metadata": {},
   "source": [
    "# Load true news dataset"
   ]
  },
  {
   "cell_type": "code",
   "execution_count": 2,
   "id": "b4918b7e",
   "metadata": {},
   "outputs": [],
   "source": [
    "true_df = pd.read_csv('True.csv')\n",
    "true_df['label'] = 0  # Add a label column for true news"
   ]
  },
  {
   "cell_type": "markdown",
   "id": "8ec0f39a",
   "metadata": {},
   "source": [
    "# Load fake news dataset"
   ]
  },
  {
   "cell_type": "code",
   "execution_count": 3,
   "id": "67d64683",
   "metadata": {},
   "outputs": [],
   "source": [
    "fake_df = pd.read_csv('Fake.csv')\n",
    "fake_df['label'] = 1  # Add a label column for fake news"
   ]
  },
  {
   "cell_type": "markdown",
   "id": "681d6de6",
   "metadata": {},
   "source": [
    "# Combine the datasets"
   ]
  },
  {
   "cell_type": "code",
   "execution_count": 4,
   "id": "bec3dee8",
   "metadata": {},
   "outputs": [],
   "source": [
    "\n",
    "df = pd.concat([true_df, fake_df], ignore_index=True)\n"
   ]
  },
  {
   "cell_type": "markdown",
   "id": "a8f9aa8c",
   "metadata": {},
   "source": [
    "# Split the data into training and testing sets"
   ]
  },
  {
   "cell_type": "code",
   "execution_count": 5,
   "id": "b7365d0a",
   "metadata": {},
   "outputs": [],
   "source": [
    "X_train, X_test, y_train, y_test = train_test_split(df['text'], df['label'], test_size=0.2, random_state=42)"
   ]
  },
  {
   "cell_type": "markdown",
   "id": "a53527f7",
   "metadata": {},
   "source": [
    "# Fitting the training dataset with the model"
   ]
  },
  {
   "cell_type": "code",
   "execution_count": 6,
   "id": "b03b5210",
   "metadata": {},
   "outputs": [
    {
     "data": {
      "text/plain": [
       "Pipeline(steps=[('tfidfvectorizer', TfidfVectorizer()),\n",
       "                ('multinomialnb', MultinomialNB())])"
      ]
     },
     "execution_count": 6,
     "metadata": {},
     "output_type": "execute_result"
    }
   ],
   "source": [
    "model = make_pipeline(TfidfVectorizer(), MultinomialNB())\n",
    "model.fit(X_train, y_train)"
   ]
  },
  {
   "cell_type": "markdown",
   "id": "d27a9331",
   "metadata": {},
   "source": [
    "# Make predictions on the test set"
   ]
  },
  {
   "cell_type": "code",
   "execution_count": 7,
   "id": "36246fb1",
   "metadata": {},
   "outputs": [],
   "source": [
    "predictions = model.predict(X_test)"
   ]
  },
  {
   "cell_type": "markdown",
   "id": "a2aed553",
   "metadata": {},
   "source": [
    "# Evaluate the model"
   ]
  },
  {
   "cell_type": "code",
   "execution_count": 8,
   "id": "b24dd01c",
   "metadata": {},
   "outputs": [],
   "source": [
    "accuracy = accuracy_score(y_test, predictions)\n",
    "classification_report_result = classification_report(y_test, predictions)"
   ]
  },
  {
   "cell_type": "markdown",
   "id": "5abe81a6",
   "metadata": {},
   "source": [
    "# Display the result"
   ]
  },
  {
   "cell_type": "code",
   "execution_count": 9,
   "id": "bf946f2e",
   "metadata": {},
   "outputs": [
    {
     "name": "stdout",
     "output_type": "stream",
     "text": [
      "Accuracy: 0.9387527839643652\n",
      "Classification Report:\n",
      "               precision    recall  f1-score   support\n",
      "\n",
      "           0       0.94      0.93      0.94      4330\n",
      "           1       0.93      0.95      0.94      4650\n",
      "\n",
      "    accuracy                           0.94      8980\n",
      "   macro avg       0.94      0.94      0.94      8980\n",
      "weighted avg       0.94      0.94      0.94      8980\n",
      "\n"
     ]
    }
   ],
   "source": [
    "print(f'Accuracy: {accuracy}')\n",
    "print('Classification Report:\\n', classification_report_result)"
   ]
  },
  {
   "cell_type": "markdown",
   "id": "8331d2f3",
   "metadata": {},
   "source": [
    "# Taking input from the user"
   ]
  },
  {
   "cell_type": "code",
   "execution_count": null,
   "id": "c0c74bee",
   "metadata": {},
   "outputs": [],
   "source": [
    "user_input = input(\"Enter a news article: \")"
   ]
  },
  {
   "cell_type": "markdown",
   "id": "19c20b03",
   "metadata": {},
   "source": [
    "# Make a prediction\n"
   ]
  },
  {
   "cell_type": "code",
   "execution_count": null,
   "id": "a3bcab53",
   "metadata": {},
   "outputs": [],
   "source": [
    "prediction = model.predict([user_input])"
   ]
  },
  {
   "cell_type": "markdown",
   "id": "4cd91827",
   "metadata": {},
   "source": [
    "\n",
    "# Display the result"
   ]
  },
  {
   "cell_type": "code",
   "execution_count": null,
   "id": "f938b5fb",
   "metadata": {},
   "outputs": [],
   "source": [
    "\n",
    "if prediction[0] == 0:\n",
    "    print(\"The news is likely to be true.\")\n",
    "else:\n",
    "    print(\"The news is likely to be fake.\")"
   ]
  },
  {
   "cell_type": "code",
   "execution_count": null,
   "id": "f5801c2c",
   "metadata": {},
   "outputs": [],
   "source": []
  }
 ],
 "metadata": {
  "kernelspec": {
   "display_name": "Python 3 (ipykernel)",
   "language": "python",
   "name": "python3"
  },
  "language_info": {
   "codemirror_mode": {
    "name": "ipython",
    "version": 3
   },
   "file_extension": ".py",
   "mimetype": "text/x-python",
   "name": "python",
   "nbconvert_exporter": "python",
   "pygments_lexer": "ipython3",
   "version": "3.7.8"
  }
 },
 "nbformat": 4,
 "nbformat_minor": 5
}
